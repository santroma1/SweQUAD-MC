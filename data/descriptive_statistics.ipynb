{
 "cells": [
  {
   "cell_type": "code",
   "execution_count": 172,
   "metadata": {},
   "outputs": [],
   "source": [
    "import numpy as np\n",
    "import pandas as pd\n",
    "import json"
   ]
  },
  {
   "cell_type": "code",
   "execution_count": 173,
   "metadata": {},
   "outputs": [],
   "source": [
    "# file_name = \"training.json\"\n",
    "# file_output = \"training_stats.csv\"\n",
    "# data_name = \"training\""
   ]
  },
  {
   "cell_type": "code",
   "execution_count": 174,
   "metadata": {},
   "outputs": [],
   "source": [
    "file_name = \"dev.json\"\n",
    "file_output = \"dev_stats.csv\"\n",
    "data_name = \"dev\""
   ]
  },
  {
   "cell_type": "code",
   "execution_count": 175,
   "metadata": {},
   "outputs": [],
   "source": [
    "# file_name = \"test.json\"\n",
    "# file_output = \"test_stats.csv\"\n",
    "# data_name = \"test\""
   ]
  },
  {
   "cell_type": "code",
   "execution_count": 176,
   "metadata": {},
   "outputs": [],
   "source": [
    "f = open(file_name)\n",
    "data = json.load(f)\n",
    "f.close()"
   ]
  },
  {
   "cell_type": "code",
   "execution_count": 177,
   "metadata": {},
   "outputs": [],
   "source": [
    "arr = data['data']\n",
    "N = len(arr)"
   ]
  },
  {
   "cell_type": "code",
   "execution_count": 178,
   "metadata": {},
   "outputs": [],
   "source": [
    "final_dict = {}"
   ]
  },
  {
   "attachments": {},
   "cell_type": "markdown",
   "metadata": {},
   "source": [
    "#### NUmber of texts"
   ]
  },
  {
   "cell_type": "code",
   "execution_count": 179,
   "metadata": {},
   "outputs": [
    {
     "data": {
      "text/plain": [
       "64"
      ]
     },
     "execution_count": 179,
     "metadata": {},
     "output_type": "execute_result"
    }
   ],
   "source": [
    "text_set = set()\n",
    "for element in arr:\n",
    "    text_set.add(element[\"context\"])\n",
    "\n",
    "n_texts = len(text_set)\n",
    "final_dict[\"# of texts\"] = n_texts\n",
    "n_texts"
   ]
  },
  {
   "attachments": {},
   "cell_type": "markdown",
   "metadata": {},
   "source": [
    "#### Count Questions"
   ]
  },
  {
   "cell_type": "code",
   "execution_count": 180,
   "metadata": {},
   "outputs": [
    {
     "data": {
      "text/plain": [
       "126"
      ]
     },
     "execution_count": 180,
     "metadata": {},
     "output_type": "execute_result"
    }
   ],
   "source": [
    "n_questions = len(arr)\n",
    "final_dict[\"# of MCQs\"] = n_questions\n",
    "n_questions"
   ]
  },
  {
   "attachments": {},
   "cell_type": "markdown",
   "metadata": {},
   "source": [
    "#### One answer per choice"
   ]
  },
  {
   "cell_type": "code",
   "execution_count": 181,
   "metadata": {},
   "outputs": [],
   "source": [
    "n_answers = np.zeros(N)\n",
    "for idx, element in enumerate(arr):\n",
    "    choices = element[\"choices\"]\n",
    "    n_ans = 0  \n",
    "    for choice in choices:\n",
    "        if choice[\"type\"] == \"Correct answer\":\n",
    "            n_ans +=1\n",
    "    n_answers[idx] = n_ans"
   ]
  },
  {
   "cell_type": "code",
   "execution_count": 182,
   "metadata": {},
   "outputs": [
    {
     "data": {
      "text/plain": [
       "array([1., 1., 1., 2., 1., 1., 1., 2., 1., 1., 1., 1., 1., 1., 1., 1., 1.,\n",
       "       1., 1., 1., 1., 1., 1., 1., 1., 1., 1., 1., 1., 1., 1., 1., 1., 1.,\n",
       "       1., 1., 1., 1., 1., 1., 1., 1., 1., 1., 1., 1., 1., 1., 1., 1., 1.,\n",
       "       1., 1., 1., 1., 1., 1., 1., 1., 1., 1., 1., 1., 1., 1., 1., 1., 1.,\n",
       "       1., 1., 1., 1., 1., 1., 1., 1., 2., 1., 1., 1., 1., 1., 1., 1., 1.,\n",
       "       1., 1., 1., 1., 1., 1., 1., 1., 1., 1., 1., 1., 1., 1., 1., 1., 1.,\n",
       "       1., 1., 1., 1., 1., 1., 1., 1., 1., 1., 1., 1., 1., 1., 1., 1., 1.,\n",
       "       2., 1., 1., 1., 1., 1., 1.])"
      ]
     },
     "execution_count": 182,
     "metadata": {},
     "output_type": "execute_result"
    }
   ],
   "source": [
    "n_answers"
   ]
  },
  {
   "cell_type": "code",
   "execution_count": 183,
   "metadata": {},
   "outputs": [],
   "source": [
    "# for element in n_answers:\n",
    "#     assert element == 1"
   ]
  },
  {
   "attachments": {},
   "cell_type": "markdown",
   "metadata": {},
   "source": [
    "#### Number of distractors"
   ]
  },
  {
   "cell_type": "code",
   "execution_count": 184,
   "metadata": {},
   "outputs": [],
   "source": [
    "n_distractors = np.zeros(N)\n",
    "for idx, element in enumerate(arr):\n",
    "    choices = element[\"choices\"]\n",
    "    n_dist = 0 \n",
    "    for choice in choices:\n",
    "        if choice[\"type\"] == \"Distractor\":\n",
    "            n_dist +=1\n",
    "    # assert n_dist < 5\n",
    "    n_distractors[idx] = n_dist"
   ]
  },
  {
   "cell_type": "code",
   "execution_count": 185,
   "metadata": {},
   "outputs": [
    {
     "data": {
      "text/plain": [
       "array([2., 2., 2., 2., 2., 2., 2., 2., 2., 2., 2., 2., 2., 2., 2., 2., 2.,\n",
       "       2., 2., 2., 2., 2., 2., 2., 2., 2., 2., 2., 2., 2., 2., 2., 2., 2.,\n",
       "       2., 2., 2., 2., 2., 2., 2., 2., 2., 2., 2., 2., 2., 2., 2., 2., 2.,\n",
       "       2., 2., 2., 2., 2., 2., 2., 2., 2., 2., 2., 2., 2., 2., 2., 2., 2.,\n",
       "       2., 2., 2., 2., 2., 2., 2., 2., 4., 2., 2., 2., 2., 2., 2., 2., 2.,\n",
       "       2., 2., 2., 2., 2., 2., 2., 2., 2., 2., 2., 2., 2., 2., 2., 2., 2.,\n",
       "       2., 2., 2., 2., 2., 2., 2., 3., 3., 3., 3., 3., 2., 3., 2., 3., 2.,\n",
       "       4., 3., 2., 3., 3., 3., 3.])"
      ]
     },
     "execution_count": 185,
     "metadata": {},
     "output_type": "execute_result"
    }
   ],
   "source": [
    "n_distractors"
   ]
  },
  {
   "cell_type": "code",
   "execution_count": 186,
   "metadata": {},
   "outputs": [],
   "source": [
    "n_dist_mean = np.mean(n_distractors)\n",
    "n_dist_std = np.std(n_distractors)"
   ]
  },
  {
   "cell_type": "code",
   "execution_count": 187,
   "metadata": {},
   "outputs": [
    {
     "name": "stdout",
     "output_type": "stream",
     "text": [
      "2.126984126984127\n",
      "0.3776310239165181\n"
     ]
    },
    {
     "data": {
      "text/plain": [
       "'2.13 +- 0.38'"
      ]
     },
     "execution_count": 187,
     "metadata": {},
     "output_type": "execute_result"
    }
   ],
   "source": [
    "print(n_dist_mean)\n",
    "print(n_dist_std)\n",
    "final_dict[\"# of D\"] = f\"{n_dist_mean:0.2f} +- {n_dist_std:0.2f}\"\n",
    "final_dict[\"# of D\"]"
   ]
  },
  {
   "attachments": {},
   "cell_type": "markdown",
   "metadata": {},
   "source": [
    "### Length of texts"
   ]
  },
  {
   "cell_type": "code",
   "execution_count": 188,
   "metadata": {},
   "outputs": [],
   "source": [
    "def count_words(_string):\n",
    "    arr = _string.split(\" \")\n",
    "    return len(arr)"
   ]
  },
  {
   "cell_type": "code",
   "execution_count": 189,
   "metadata": {},
   "outputs": [
    {
     "data": {
      "text/plain": [
       "array([ 298.,  336.,  265.,  295.,  295.,  320.,  258.,  298.,  343.,\n",
       "        193.,  280.,  273.,  315.,  338.,  403.,  403.,  373.,  246.,\n",
       "        246.,  247.,  247.,  270.,  262.,  262.,  262.,  262.,  262.,\n",
       "        235.,  299.,  477.,  477.,  477.,  287.,  287.,  287.,  271.,\n",
       "        271.,  213.,  288.,  288.,  288.,  288.,  231.,  293.,  290.,\n",
       "        583.,  583.,  311.,  311.,  270.,  271.,  271.,  271.,  271.,\n",
       "        277.,  369.,  222.,  325.,  290.,  296.,  296.,  296.,  296.,\n",
       "        274.,  299.,  278.,  249.,  240.,  300.,  300.,  300.,  300.,\n",
       "        279.,  279.,  306.,  293.,  277.,  246.,  231.,  231.,  248.,\n",
       "        248.,  248.,  208.,  239.,  239.,  239.,  326.,  202.,  213.,\n",
       "        259.,  259.,  337.,  337.,  303.,  583.,  583.,  265.,  265.,\n",
       "        262.,  262.,  366.,  366.,  366.,  333.,  333.,  333.,  333.,\n",
       "        343.,  343.,  428.,  428.,  428.,  428.,  428.,  428.,  407.,\n",
       "        407.,  221.,  221., 2140.,  686., 1146., 1146., 1146., 1146.])"
      ]
     },
     "execution_count": 189,
     "metadata": {},
     "output_type": "execute_result"
    }
   ],
   "source": [
    "len_texts = np.zeros(N)\n",
    "for idx, element in enumerate(arr):\n",
    "    context = element[\"context\"]\n",
    "    len_texts[idx] = count_words(context)\n",
    "\n",
    "len_texts"
   ]
  },
  {
   "cell_type": "code",
   "execution_count": 190,
   "metadata": {},
   "outputs": [
    {
     "data": {
      "text/plain": [
       "2140.0"
      ]
     },
     "execution_count": 190,
     "metadata": {},
     "output_type": "execute_result"
    }
   ],
   "source": [
    "max_length_text = np.max(len_texts)\n",
    "max_length_text"
   ]
  },
  {
   "cell_type": "code",
   "execution_count": 191,
   "metadata": {},
   "outputs": [
    {
     "name": "stdout",
     "output_type": "stream",
     "text": [
      "352.1031746031746\n",
      "232.41277009710035\n"
     ]
    }
   ],
   "source": [
    "text_mean = np.mean(len_texts)\n",
    "text_std = np.std(len_texts)\n",
    "print(text_mean)\n",
    "print(text_std)"
   ]
  },
  {
   "cell_type": "code",
   "execution_count": 192,
   "metadata": {},
   "outputs": [
    {
     "data": {
      "text/plain": [
       "'352.10 +- 232.41'"
      ]
     },
     "execution_count": 192,
     "metadata": {},
     "output_type": "execute_result"
    }
   ],
   "source": [
    "final_dict[\"Len(Text)\"] = f\"{text_mean:0.2f} +- {text_std:0.2f}\"\n",
    "final_dict[\"Max(Text)\"] = max_length_text\n",
    "final_dict[\"Len(Text)\"]"
   ]
  },
  {
   "attachments": {},
   "cell_type": "markdown",
   "metadata": {},
   "source": [
    "#### Length of answers"
   ]
  },
  {
   "cell_type": "code",
   "execution_count": 193,
   "metadata": {},
   "outputs": [
    {
     "data": {
      "text/plain": [
       "array([ 2.,  7.,  1.,  9.,  1., 14.,  7.,  2.,  4.,  2.,  9.,  9.,  4.,\n",
       "        1.,  8., 15.,  1.,  1.,  1.,  3.,  2.,  5.,  8.,  1.,  1.,  3.,\n",
       "        3., 12.,  1.,  7.,  8., 14.,  3., 10.,  1.,  3.,  4.,  2.,  5.,\n",
       "        1.,  1.,  2.,  8.,  2.,  6.,  3.,  2.,  1.,  3.,  5.,  1.,  1.,\n",
       "        8.,  1., 13.,  6.,  7.,  1.,  1., 10.,  1.,  8.,  4.,  2.,  5.,\n",
       "        3.,  3.,  6.,  2.,  1.,  9.,  4., 19.,  8.,  1.,  2.,  8.,  6.,\n",
       "        1.,  5.,  2.,  1.,  1., 12.,  5.,  1.,  1.,  6.,  6.,  2.,  9.,\n",
       "        2.,  6.,  2.,  2.,  4.,  1.,  4.,  1.,  6.,  9.,  6.,  8.,  2.,\n",
       "        9.,  7., 10.,  3.,  3.,  8.,  4.,  2.,  9.,  2.,  1.,  1.,  2.,\n",
       "        1.,  6.,  3.,  1.,  1.,  1., 11.,  1.,  1.])"
      ]
     },
     "execution_count": 193,
     "metadata": {},
     "output_type": "execute_result"
    }
   ],
   "source": [
    "len_answers = np.zeros(N)\n",
    "for idx, element in enumerate(arr):\n",
    "    choices = element[\"choices\"]\n",
    "    for choice in choices:\n",
    "        if choice[\"type\"] == \"Correct answer\":\n",
    "            ans = choice[\"text\"]\n",
    "            len_answers[idx] = count_words(ans)\n",
    "\n",
    "len_answers"
   ]
  },
  {
   "cell_type": "code",
   "execution_count": 194,
   "metadata": {},
   "outputs": [
    {
     "data": {
      "text/plain": [
       "19.0"
      ]
     },
     "execution_count": 194,
     "metadata": {},
     "output_type": "execute_result"
    }
   ],
   "source": [
    "max_length_ans = np.max(len_answers)\n",
    "max_length_ans"
   ]
  },
  {
   "cell_type": "code",
   "execution_count": 195,
   "metadata": {},
   "outputs": [
    {
     "name": "stdout",
     "output_type": "stream",
     "text": [
      "4.4523809523809526\n",
      "3.730200945387597\n"
     ]
    }
   ],
   "source": [
    "ans_mean = np.mean(len_answers)\n",
    "ans_std = np.std(len_answers)\n",
    "print(ans_mean)\n",
    "print(ans_std)"
   ]
  },
  {
   "cell_type": "code",
   "execution_count": 196,
   "metadata": {},
   "outputs": [
    {
     "data": {
      "text/plain": [
       "'4.45 +- 3.73'"
      ]
     },
     "execution_count": 196,
     "metadata": {},
     "output_type": "execute_result"
    }
   ],
   "source": [
    "final_dict[\"Len(A)\"] = f\"{ans_mean:0.2f} +- {ans_std:0.2f}\"\n",
    "final_dict[\"Max(A)\"] = max_length_ans\n",
    "final_dict[\"Len(A)\"]"
   ]
  },
  {
   "attachments": {},
   "cell_type": "markdown",
   "metadata": {},
   "source": [
    "#### Length of distractors"
   ]
  },
  {
   "cell_type": "code",
   "execution_count": 197,
   "metadata": {},
   "outputs": [
    {
     "data": {
      "text/plain": [
       "array([ 4,  1, 10,  5,  2,  2,  5,  8,  1,  1, 29, 14,  6,  3,  5,  1,  3,\n",
       "        2,  1,  1,  3,  3,  6,  9,  1,  1,  2,  3,  3,  7,  5,  7,  1,  5,\n",
       "        1,  1,  1,  1,  7,  1,  3,  2,  9,  7, 13,  9,  1,  1,  1,  1,  2,\n",
       "        1,  1,  3, 11,  9,  2,  1,  2, 13,  6,  3, 10, 16,  1,  6,  4,  6,\n",
       "        1,  1,  1,  2,  3,  1,  1,  1,  2,  3,  1,  1,  1,  1,  3,  7,  5,\n",
       "        3,  3,  1,  6,  4,  2,  2,  1,  4,  4,  1,  3, 10,  4,  4,  1,  1,\n",
       "        1,  1,  4,  6,  1,  2, 11,  5,  4, 14,  8,  8,  1,  3,  1,  1,  6,\n",
       "       13,  1,  3,  6,  5,  5,  3,  1,  6,  8,  4,  2,  1,  5,  3,  8,  8,\n",
       "        2,  3,  5,  2,  7,  6,  9,  6,  8, 10,  8, 20,  1,  1,  4,  1,  7,\n",
       "       17,  9, 16, 15, 13,  2,  1,  5,  6,  3,  8,  1,  1,  1,  1,  9, 11,\n",
       "        8,  5,  2,  1,  1,  1, 11, 11,  7,  6,  2,  2,  3,  7,  1,  3,  2,\n",
       "        4,  2,  2,  1,  1,  1,  1,  1,  1,  5,  6,  3,  1,  4,  4,  7,  3,\n",
       "       11,  6,  7,  6,  2,  1,  4,  9,  8,  3,  6,  8,  4,  4,  1,  1,  1,\n",
       "        3,  1,  5,  6,  3,  2,  2,  2,  3,  6,  5,  1,  1,  3,  1,  1,  2,\n",
       "        1,  1,  2,  7,  1,  1,  1,  1, 12,  1,  1,  1,  1,  1,  1,  1,  1,\n",
       "        1,  1,  1,  1,  4,  8,  6,  1,  1,  1,  1,  1,  1])"
      ]
     },
     "execution_count": 197,
     "metadata": {},
     "output_type": "execute_result"
    }
   ],
   "source": [
    "len_distractors = []\n",
    "for idx, element in enumerate(arr):\n",
    "    choices = element[\"choices\"]\n",
    "    for choice in choices:\n",
    "        if choice[\"type\"] == \"Distractor\":\n",
    "            dist = choice[\"text\"]\n",
    "            len_distractors.append(count_words(dist))\n",
    "\n",
    "len_distractors = np.array(len_distractors)\n",
    "len_distractors"
   ]
  },
  {
   "cell_type": "code",
   "execution_count": 198,
   "metadata": {},
   "outputs": [
    {
     "data": {
      "text/plain": [
       "29"
      ]
     },
     "execution_count": 198,
     "metadata": {},
     "output_type": "execute_result"
    }
   ],
   "source": [
    "max_length_dist = np.max(len_distractors)\n",
    "max_length_dist"
   ]
  },
  {
   "cell_type": "code",
   "execution_count": 199,
   "metadata": {},
   "outputs": [
    {
     "name": "stdout",
     "output_type": "stream",
     "text": [
      "4.085820895522388\n",
      "3.9242007073800624\n"
     ]
    }
   ],
   "source": [
    "dist_mean = np.mean(len_distractors)\n",
    "dist_std = np.std(len_distractors)\n",
    "print(dist_mean)\n",
    "print(dist_std)"
   ]
  },
  {
   "cell_type": "code",
   "execution_count": 200,
   "metadata": {},
   "outputs": [
    {
     "data": {
      "text/plain": [
       "'4.09 +- 3.92'"
      ]
     },
     "execution_count": 200,
     "metadata": {},
     "output_type": "execute_result"
    }
   ],
   "source": [
    "final_dict[\"Len(D)\"] = f\"{dist_mean:0.2f} +- {dist_std:0.2f}\"\n",
    "final_dict[\"Max(D)\"] = max_length_dist\n",
    "final_dict[\"Len(D)\"]"
   ]
  },
  {
   "attachments": {},
   "cell_type": "markdown",
   "metadata": {},
   "source": [
    "### Diference ans and Dist"
   ]
  },
  {
   "cell_type": "code",
   "execution_count": 201,
   "metadata": {},
   "outputs": [
    {
     "data": {
      "text/plain": [
       "array([ 1.5       ,  2.5       ,  1.        ,  2.5       ,  0.        ,\n",
       "        7.5       ,  2.5       ,  2.        ,  1.5       ,  1.        ,\n",
       "        6.        ,  1.5       ,  3.        ,  1.5       ,  3.        ,\n",
       "        9.        ,  2.        ,  0.        ,  0.        ,  3.        ,\n",
       "        0.5       ,  3.        ,  3.        ,  0.        ,  0.        ,\n",
       "        1.5       ,  1.        ,  2.        ,  0.5       ,  5.5       ,\n",
       "        3.5       ,  3.        ,  2.5       ,  5.        ,  0.        ,\n",
       "        1.5       ,  2.        ,  1.        ,  2.5       ,  0.        ,\n",
       "        0.        ,  3.        ,  4.        ,  1.        ,  1.        ,\n",
       "        1.        ,  1.5       ,  1.5       ,  3.5       ,  1.        ,\n",
       "        0.        ,  0.        ,  3.        ,  0.5       ,  5.        ,\n",
       "        5.        ,  1.        ,  1.        ,  0.        ,  3.5       ,\n",
       "        1.        ,  2.5       ,  1.        ,  2.5       ,  2.        ,\n",
       "        1.5       ,  1.        ,  2.        ,  0.5       ,  2.5       ,\n",
       "        2.5       ,  3.5       , 10.        ,  6.        ,  0.        ,\n",
       "        1.5       ,  4.75      ,  8.        ,  0.5       ,  0.5       ,\n",
       "        3.5       ,  0.        ,  0.        ,  2.        ,  1.5       ,\n",
       "        0.5       ,  0.        ,  5.        ,  0.5       ,  0.        ,\n",
       "        4.        ,  1.        ,  3.        ,  0.        ,  1.        ,\n",
       "        3.        ,  0.        ,  1.5       ,  1.        ,  2.        ,\n",
       "        4.        ,  2.5       ,  1.5       ,  0.5       ,  2.5       ,\n",
       "        2.5       ,  3.        ,  1.        ,  2.        ,  6.33333333,\n",
       "        1.33333333,  0.        ,  4.33333333,  1.        ,  0.        ,\n",
       "        0.33333333,  2.5       ,  0.        ,  5.5       ,  2.        ,\n",
       "        0.        ,  0.        ,  0.        ,  5.        ,  0.        ,\n",
       "        0.        ])"
      ]
     },
     "execution_count": 201,
     "metadata": {},
     "output_type": "execute_result"
    }
   ],
   "source": [
    "len_differences = []\n",
    "for idx, element in enumerate(arr):\n",
    "    choices = element[\"choices\"]\n",
    "    dists_length = []\n",
    "    for choice in choices:\n",
    "        if choice[\"type\"] == \"Correct answer\":\n",
    "            ans = choice[\"text\"]\n",
    "            ans_length = count_words(ans)\n",
    "        if choice[\"type\"] == \"Distractor\":\n",
    "            dist = choice[\"text\"]\n",
    "            dists_length.append(count_words(dist))\n",
    "    \n",
    "    arr_diff = np.array([abs(ans_length-x) for x in dists_length])\n",
    "    diff = np.mean(arr_diff)\n",
    "    len_differences.append(diff)\n",
    "\n",
    "len_differences = np.array(len_differences)\n",
    "len_differences"
   ]
  },
  {
   "cell_type": "code",
   "execution_count": 202,
   "metadata": {},
   "outputs": [
    {
     "data": {
      "text/plain": [
       "10.0"
      ]
     },
     "execution_count": 202,
     "metadata": {},
     "output_type": "execute_result"
    }
   ],
   "source": [
    "max_length_diff = np.max(len_differences)\n",
    "max_length_diff"
   ]
  },
  {
   "cell_type": "code",
   "execution_count": 203,
   "metadata": {},
   "outputs": [
    {
     "name": "stdout",
     "output_type": "stream",
     "text": [
      "2.036375661375662\n",
      "1.9892373561823293\n"
     ]
    }
   ],
   "source": [
    "diff_mean = np.mean(len_differences)\n",
    "diff_std = np.std(len_differences)\n",
    "print(diff_mean)\n",
    "print(diff_std)"
   ]
  },
  {
   "cell_type": "code",
   "execution_count": 204,
   "metadata": {},
   "outputs": [
    {
     "data": {
      "text/plain": [
       "'2.04 +- 1.99'"
      ]
     },
     "execution_count": 204,
     "metadata": {},
     "output_type": "execute_result"
    }
   ],
   "source": [
    "final_dict[\"|Len(A) - Len(D)|\"] = f\"{diff_mean:0.2f} +- {diff_std:0.2f}\"\n",
    "final_dict[\"Max(|Len(A) - Len(D)|)\"] = max_length_diff\n",
    "final_dict[\"|Len(A) - Len(D)|\"]"
   ]
  },
  {
   "attachments": {},
   "cell_type": "markdown",
   "metadata": {},
   "source": [
    "# Final CSV"
   ]
  },
  {
   "cell_type": "code",
   "execution_count": 205,
   "metadata": {},
   "outputs": [
    {
     "data": {
      "text/plain": [
       "# of texts                              64\n",
       "# of MCQs                              126\n",
       "# of D                        2.13 +- 0.38\n",
       "Len(Text)                 352.10 +- 232.41\n",
       "Max(Text)                           2140.0\n",
       "Len(A)                        4.45 +- 3.73\n",
       "Max(A)                                19.0\n",
       "Len(D)                        4.09 +- 3.92\n",
       "Max(D)                                  29\n",
       "|Len(A) - Len(D)|             2.04 +- 1.99\n",
       "Max(|Len(A) - Len(D)|)                10.0\n",
       "Name: dev, dtype: object"
      ]
     },
     "execution_count": 205,
     "metadata": {},
     "output_type": "execute_result"
    }
   ],
   "source": [
    "df = pd.Series(final_dict, name=data_name)\n",
    "df"
   ]
  },
  {
   "cell_type": "code",
   "execution_count": 206,
   "metadata": {},
   "outputs": [],
   "source": [
    "df.to_csv(file_output)"
   ]
  },
  {
   "cell_type": "code",
   "execution_count": null,
   "metadata": {},
   "outputs": [],
   "source": []
  }
 ],
 "metadata": {
  "kernelspec": {
   "display_name": "id2223",
   "language": "python",
   "name": "python3"
  },
  "language_info": {
   "codemirror_mode": {
    "name": "ipython",
    "version": 3
   },
   "file_extension": ".py",
   "mimetype": "text/x-python",
   "name": "python",
   "nbconvert_exporter": "python",
   "pygments_lexer": "ipython3",
   "version": "3.8.13"
  },
  "orig_nbformat": 4
 },
 "nbformat": 4,
 "nbformat_minor": 2
}
