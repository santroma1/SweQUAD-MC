{
 "cells": [
  {
   "cell_type": "code",
   "execution_count": 1,
   "metadata": {},
   "outputs": [],
   "source": [
    "import numpy as np\n",
    "import pandas as pd\n",
    "import json"
   ]
  },
  {
   "cell_type": "code",
   "execution_count": 2,
   "metadata": {},
   "outputs": [],
   "source": [
    "train = pd.read_csv(\"training_stats.csv\", index_col=0)\n",
    "dev = pd.read_csv(\"dev_stats.csv\", index_col=0)\n",
    "test = pd.read_csv(\"test_stats.csv\", index_col=0)"
   ]
  },
  {
   "cell_type": "code",
   "execution_count": 3,
   "metadata": {},
   "outputs": [
    {
     "data": {
      "text/html": [
       "<div>\n",
       "<style scoped>\n",
       "    .dataframe tbody tr th:only-of-type {\n",
       "        vertical-align: middle;\n",
       "    }\n",
       "\n",
       "    .dataframe tbody tr th {\n",
       "        vertical-align: top;\n",
       "    }\n",
       "\n",
       "    .dataframe thead th {\n",
       "        text-align: right;\n",
       "    }\n",
       "</style>\n",
       "<table border=\"1\" class=\"dataframe\">\n",
       "  <thead>\n",
       "    <tr style=\"text-align: right;\">\n",
       "      <th></th>\n",
       "      <th>training</th>\n",
       "    </tr>\n",
       "  </thead>\n",
       "  <tbody>\n",
       "    <tr>\n",
       "      <th># of texts</th>\n",
       "      <td>434</td>\n",
       "    </tr>\n",
       "    <tr>\n",
       "      <th># of MCQs</th>\n",
       "      <td>962</td>\n",
       "    </tr>\n",
       "    <tr>\n",
       "      <th># of D</th>\n",
       "      <td>2.15 +- 0.54</td>\n",
       "    </tr>\n",
       "    <tr>\n",
       "      <th>Len(Text)</th>\n",
       "      <td>380.69 +- 332.80</td>\n",
       "    </tr>\n",
       "    <tr>\n",
       "      <th>Max(Text)</th>\n",
       "      <td>2142.0</td>\n",
       "    </tr>\n",
       "    <tr>\n",
       "      <th>Len(A)</th>\n",
       "      <td>4.19 +- 3.44</td>\n",
       "    </tr>\n",
       "    <tr>\n",
       "      <th>Max(A)</th>\n",
       "      <td>23.0</td>\n",
       "    </tr>\n",
       "    <tr>\n",
       "      <th>Len(D)</th>\n",
       "      <td>4.32 +- 3.84</td>\n",
       "    </tr>\n",
       "    <tr>\n",
       "      <th>Max(D)</th>\n",
       "      <td>24</td>\n",
       "    </tr>\n",
       "    <tr>\n",
       "      <th>|Len(A) - Len(D)|</th>\n",
       "      <td>2.06 +- 2.12</td>\n",
       "    </tr>\n",
       "    <tr>\n",
       "      <th>Max(|Len(A) - Len(D)|)</th>\n",
       "      <td>13.5</td>\n",
       "    </tr>\n",
       "  </tbody>\n",
       "</table>\n",
       "</div>"
      ],
      "text/plain": [
       "                                training\n",
       "# of texts                           434\n",
       "# of MCQs                            962\n",
       "# of D                      2.15 +- 0.54\n",
       "Len(Text)               380.69 +- 332.80\n",
       "Max(Text)                         2142.0\n",
       "Len(A)                      4.19 +- 3.44\n",
       "Max(A)                              23.0\n",
       "Len(D)                      4.32 +- 3.84\n",
       "Max(D)                                24\n",
       "|Len(A) - Len(D)|           2.06 +- 2.12\n",
       "Max(|Len(A) - Len(D)|)              13.5"
      ]
     },
     "execution_count": 3,
     "metadata": {},
     "output_type": "execute_result"
    }
   ],
   "source": [
    "train"
   ]
  },
  {
   "cell_type": "code",
   "execution_count": 4,
   "metadata": {},
   "outputs": [],
   "source": [
    "df = pd.concat([train, dev, test], axis=1)"
   ]
  },
  {
   "cell_type": "code",
   "execution_count": 5,
   "metadata": {},
   "outputs": [
    {
     "data": {
      "text/html": [
       "<div>\n",
       "<style scoped>\n",
       "    .dataframe tbody tr th:only-of-type {\n",
       "        vertical-align: middle;\n",
       "    }\n",
       "\n",
       "    .dataframe tbody tr th {\n",
       "        vertical-align: top;\n",
       "    }\n",
       "\n",
       "    .dataframe thead th {\n",
       "        text-align: right;\n",
       "    }\n",
       "</style>\n",
       "<table border=\"1\" class=\"dataframe\">\n",
       "  <thead>\n",
       "    <tr style=\"text-align: right;\">\n",
       "      <th></th>\n",
       "      <th>training</th>\n",
       "      <th>dev</th>\n",
       "      <th>test</th>\n",
       "    </tr>\n",
       "  </thead>\n",
       "  <tbody>\n",
       "    <tr>\n",
       "      <th># of texts</th>\n",
       "      <td>434</td>\n",
       "      <td>64</td>\n",
       "      <td>45</td>\n",
       "    </tr>\n",
       "    <tr>\n",
       "      <th># of MCQs</th>\n",
       "      <td>962</td>\n",
       "      <td>126</td>\n",
       "      <td>102</td>\n",
       "    </tr>\n",
       "    <tr>\n",
       "      <th># of D</th>\n",
       "      <td>2.15 +- 0.54</td>\n",
       "      <td>2.13 +- 0.38</td>\n",
       "      <td>2.05 +- 0.22</td>\n",
       "    </tr>\n",
       "    <tr>\n",
       "      <th>Len(Text)</th>\n",
       "      <td>380.69 +- 332.80</td>\n",
       "      <td>352.10 +- 232.41</td>\n",
       "      <td>353.37 +- 263.73</td>\n",
       "    </tr>\n",
       "    <tr>\n",
       "      <th>Max(Text)</th>\n",
       "      <td>2142.0</td>\n",
       "      <td>2140.0</td>\n",
       "      <td>1591.0</td>\n",
       "    </tr>\n",
       "    <tr>\n",
       "      <th>Len(A)</th>\n",
       "      <td>4.19 +- 3.44</td>\n",
       "      <td>4.45 +- 3.73</td>\n",
       "      <td>4.58 +- 4.63</td>\n",
       "    </tr>\n",
       "    <tr>\n",
       "      <th>Max(A)</th>\n",
       "      <td>23.0</td>\n",
       "      <td>19.0</td>\n",
       "      <td>28.0</td>\n",
       "    </tr>\n",
       "    <tr>\n",
       "      <th>Len(D)</th>\n",
       "      <td>4.32 +- 3.84</td>\n",
       "      <td>4.09 +- 3.92</td>\n",
       "      <td>3.90 +- 3.63</td>\n",
       "    </tr>\n",
       "    <tr>\n",
       "      <th>Max(D)</th>\n",
       "      <td>24</td>\n",
       "      <td>29</td>\n",
       "      <td>21</td>\n",
       "    </tr>\n",
       "    <tr>\n",
       "      <th>|Len(A) - Len(D)|</th>\n",
       "      <td>2.06 +- 2.12</td>\n",
       "      <td>2.04 +- 1.99</td>\n",
       "      <td>2.02 +- 2.61</td>\n",
       "    </tr>\n",
       "    <tr>\n",
       "      <th>Max(|Len(A) - Len(D)|)</th>\n",
       "      <td>13.5</td>\n",
       "      <td>10.0</td>\n",
       "      <td>19.0</td>\n",
       "    </tr>\n",
       "  </tbody>\n",
       "</table>\n",
       "</div>"
      ],
      "text/plain": [
       "                                training               dev              test\n",
       "# of texts                           434                64                45\n",
       "# of MCQs                            962               126               102\n",
       "# of D                      2.15 +- 0.54      2.13 +- 0.38      2.05 +- 0.22\n",
       "Len(Text)               380.69 +- 332.80  352.10 +- 232.41  353.37 +- 263.73\n",
       "Max(Text)                         2142.0            2140.0            1591.0\n",
       "Len(A)                      4.19 +- 3.44      4.45 +- 3.73      4.58 +- 4.63\n",
       "Max(A)                              23.0              19.0              28.0\n",
       "Len(D)                      4.32 +- 3.84      4.09 +- 3.92      3.90 +- 3.63\n",
       "Max(D)                                24                29                21\n",
       "|Len(A) - Len(D)|           2.06 +- 2.12      2.04 +- 1.99      2.02 +- 2.61\n",
       "Max(|Len(A) - Len(D)|)              13.5              10.0              19.0"
      ]
     },
     "execution_count": 5,
     "metadata": {},
     "output_type": "execute_result"
    }
   ],
   "source": [
    "df"
   ]
  },
  {
   "cell_type": "code",
   "execution_count": 6,
   "metadata": {},
   "outputs": [
    {
     "name": "stdout",
     "output_type": "stream",
     "text": [
      "\\begin{tabular}{llll}\n",
      "\\toprule\n",
      " & training & dev & test \\\\\n",
      "\\midrule\n",
      "# of texts & 434 & 64 & 45 \\\\\n",
      "# of MCQs & 962 & 126 & 102 \\\\\n",
      "# of D & 2.15 +- 0.54 & 2.13 +- 0.38 & 2.05 +- 0.22 \\\\\n",
      "Len(Text) & 380.69 +- 332.80 & 352.10 +- 232.41 & 353.37 +- 263.73 \\\\\n",
      "Max(Text) & 2142.0 & 2140.0 & 1591.0 \\\\\n",
      "Len(A) & 4.19 +- 3.44 & 4.45 +- 3.73 & 4.58 +- 4.63 \\\\\n",
      "Max(A) & 23.0 & 19.0 & 28.0 \\\\\n",
      "Len(D) & 4.32 +- 3.84 & 4.09 +- 3.92 & 3.90 +- 3.63 \\\\\n",
      "Max(D) & 24 & 29 & 21 \\\\\n",
      "|Len(A) - Len(D)| & 2.06 +- 2.12 & 2.04 +- 1.99 & 2.02 +- 2.61 \\\\\n",
      "Max(|Len(A) - Len(D)|) & 13.5 & 10.0 & 19.0 \\\\\n",
      "\\bottomrule\n",
      "\\end{tabular}\n",
      "\n"
     ]
    }
   ],
   "source": [
    "print(df.to_latex())"
   ]
  }
 ],
 "metadata": {
  "kernelspec": {
   "display_name": "id2223",
   "language": "python",
   "name": "python3"
  },
  "language_info": {
   "codemirror_mode": {
    "name": "ipython",
    "version": 3
   },
   "file_extension": ".py",
   "mimetype": "text/x-python",
   "name": "python",
   "nbconvert_exporter": "python",
   "pygments_lexer": "ipython3",
   "version": "3.8.13"
  },
  "orig_nbformat": 4
 },
 "nbformat": 4,
 "nbformat_minor": 2
}
